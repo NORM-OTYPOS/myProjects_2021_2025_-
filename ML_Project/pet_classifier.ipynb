{
 "cells": [
  {
   "cell_type": "code",
   "execution_count": 21,
   "id": "e7f6202a",
   "metadata": {},
   "outputs": [],
   "source": [
    "import numpy as np \n",
    "import cv2\n",
    "import os\n",
    "import random\n",
    "import matplotlib.pyplot as plt\n",
    "import pickle\n",
    "from keras.models import Sequential\n",
    "from keras.layers import Conv2D, MaxPooling2D, Flatten, Dense"
   ]
  },
  {
   "cell_type": "code",
   "execution_count": 23,
   "id": "41083f19",
   "metadata": {},
   "outputs": [],
   "source": [
    "Dirct = \"/Users/paavankumars/Documents/Pet_Breeds/\""
   ]
  },
  {
   "cell_type": "code",
   "execution_count": 24,
   "id": "d31d0cbc",
   "metadata": {},
   "outputs": [],
   "source": [
    "Categories = ['cat','dog']"
   ]
  },
  {
   "cell_type": "code",
   "execution_count": 25,
   "id": "3a9ed65a",
   "metadata": {},
   "outputs": [
    {
     "name": "stdout",
     "output_type": "stream",
     "text": [
      "/Users/paavankumars/Documents/Pet_Breeds/cat/american shorthair_99.jpg\n",
      "/Users/paavankumars/Documents/Pet_Breeds/cat/american shorthair_72.jpg\n",
      "/Users/paavankumars/Documents/Pet_Breeds/cat/mumbai cat_105.jpg\n",
      "/Users/paavankumars/Documents/Pet_Breeds/cat/mumbai cat_111.jpg\n",
      "/Users/paavankumars/Documents/Pet_Breeds/cat/maine coon_35.jpg\n",
      "/Users/paavankumars/Documents/Pet_Breeds/cat/american shorthair_66.jpg\n",
      "/Users/paavankumars/Documents/Pet_Breeds/cat/mumbai cat_139.jpg\n",
      "/Users/paavankumars/Documents/Pet_Breeds/cat/maine coon_162.jpg\n",
      "/Users/paavankumars/Documents/Pet_Breeds/cat/american shorthair_7.jpg\n",
      "/Users/paavankumars/Documents/Pet_Breeds/cat/abyssinian_147.jpg\n",
      "/Users/paavankumars/Documents/Pet_Breeds/cat/american shorthair_142.jpg\n",
      "/Users/paavankumars/Documents/Pet_Breeds/cat/abyssinian_153.jpg\n",
      "/Users/paavankumars/Documents/Pet_Breeds/cat/persian cat_55.jpg\n",
      "/Users/paavankumars/Documents/Pet_Breeds/cat/persian cat_41.jpg\n",
      "/Users/paavankumars/Documents/Pet_Breeds/cat/mumbai cat_36.jpg\n",
      "/Users/paavankumars/Documents/Pet_Breeds/cat/persian cat_69.jpg\n",
      "/Users/paavankumars/Documents/Pet_Breeds/cat/mumbai cat_22.jpg\n",
      "/Users/paavankumars/Documents/Pet_Breeds/cat/abyssinian_75.jpg\n",
      "/Users/paavankumars/Documents/Pet_Breeds/cat/persian cat_96.jpg\n",
      "/Users/paavankumars/Documents/Pet_Breeds/cat/persian cat_82.jpg\n",
      "/Users/paavankumars/Documents/Pet_Breeds/cat/abyssinian_61.jpg\n",
      "/Users/paavankumars/Documents/Pet_Breeds/cat/abyssinian_49.jpg\n",
      "/Users/paavankumars/Documents/Pet_Breeds/cat/abyssinian_48.jpg\n",
      "/Users/paavankumars/Documents/Pet_Breeds/cat/abyssinian_60.jpg\n",
      "/Users/paavankumars/Documents/Pet_Breeds/cat/persian cat_83.jpg\n",
      "/Users/paavankumars/Documents/Pet_Breeds/cat/persian cat_97.jpg\n",
      "/Users/paavankumars/Documents/Pet_Breeds/cat/abyssinian_74.jpg\n",
      "/Users/paavankumars/Documents/Pet_Breeds/cat/mumbai cat_23.jpg\n",
      "/Users/paavankumars/Documents/Pet_Breeds/cat/mumbai cat_37.jpg\n",
      "/Users/paavankumars/Documents/Pet_Breeds/cat/persian cat_68.jpg\n",
      "/Users/paavankumars/Documents/Pet_Breeds/cat/persian cat_40.jpg\n",
      "/Users/paavankumars/Documents/Pet_Breeds/cat/abyssinian_1.jpg\n",
      "/Users/paavankumars/Documents/Pet_Breeds/cat/persian cat_162.jpg\n",
      "/Users/paavankumars/Documents/Pet_Breeds/cat/american shorthair_143.jpg\n",
      "/Users/paavankumars/Documents/Pet_Breeds/cat/abyssinian_152.jpg\n",
      "/Users/paavankumars/Documents/Pet_Breeds/cat/abyssinian_146.jpg\n",
      "/Users/paavankumars/Documents/Pet_Breeds/cat/american shorthair_157.jpg\n",
      "/Users/paavankumars/Documents/Pet_Breeds/cat/american shorthair_6.jpg\n",
      "/Users/paavankumars/Documents/Pet_Breeds/cat/maine coon_163.jpg\n",
      "/Users/paavankumars/Documents/Pet_Breeds/cat/mumbai cat_138.jpg\n",
      "/Users/paavankumars/Documents/Pet_Breeds/cat/mumbai cat_110.jpg\n",
      "/Users/paavankumars/Documents/Pet_Breeds/cat/american shorthair_67.jpg\n",
      "/Users/paavankumars/Documents/Pet_Breeds/cat/maine coon_34.jpg\n",
      "/Users/paavankumars/Documents/Pet_Breeds/cat/maine coon_20.jpg\n",
      "/Users/paavankumars/Documents/Pet_Breeds/cat/american shorthair_73.jpg\n",
      "/Users/paavankumars/Documents/Pet_Breeds/cat/mumbai cat_104.jpg\n",
      "/Users/paavankumars/Documents/Pet_Breeds/cat/american shorthair_98.jpg\n",
      "/Users/paavankumars/Documents/Pet_Breeds/cat/maine coon_36.jpg\n",
      "/Users/paavankumars/Documents/Pet_Breeds/cat/american shorthair_65.jpg\n",
      "/Users/paavankumars/Documents/Pet_Breeds/cat/mumbai cat_112.jpg\n",
      "/Users/paavankumars/Documents/Pet_Breeds/cat/maine coon_149.jpg\n",
      "/Users/paavankumars/Documents/Pet_Breeds/cat/mumbai cat_106.jpg\n",
      "/Users/paavankumars/Documents/Pet_Breeds/cat/american shorthair_71.jpg\n",
      "/Users/paavankumars/Documents/Pet_Breeds/cat/maine coon_22.jpg\n",
      "/Users/paavankumars/Documents/Pet_Breeds/cat/american shorthair_59.jpg\n",
      "/Users/paavankumars/Documents/Pet_Breeds/cat/maine coon_161.jpg\n",
      "/Users/paavankumars/Documents/Pet_Breeds/cat/persian cat_111.jpeg\n",
      "/Users/paavankumars/Documents/Pet_Breeds/cat/american shorthair_4.jpg\n",
      "/Users/paavankumars/Documents/Pet_Breeds/cat/abyssinian_150.jpg\n",
      "/Users/paavankumars/Documents/Pet_Breeds/cat/persian cat_148.jpg\n",
      "/Users/paavankumars/Documents/Pet_Breeds/cat/american shorthair_141.jpg\n",
      "/Users/paavankumars/Documents/Pet_Breeds/cat/american shorthair_155.jpg\n",
      "/Users/paavankumars/Documents/Pet_Breeds/cat/abyssinian_144.jpg\n",
      "/Users/paavankumars/Documents/Pet_Breeds/cat/abyssinian_3.jpg\n",
      "/Users/paavankumars/Documents/Pet_Breeds/cat/persian cat_160.jpg\n",
      "/Users/paavankumars/Documents/Pet_Breeds/cat/american shorthair_169.jpg\n",
      "/Users/paavankumars/Documents/Pet_Breeds/cat/persian cat_42.jpg\n",
      "/Users/paavankumars/Documents/Pet_Breeds/cat/persian cat_56.jpg\n",
      "/Users/paavankumars/Documents/Pet_Breeds/cat/mumbai cat_21.jpg\n",
      "/Users/paavankumars/Documents/Pet_Breeds/cat/abyssinian_89.jpg\n",
      "/Users/paavankumars/Documents/Pet_Breeds/cat/mumbai cat_35.jpg\n",
      "/Users/paavankumars/Documents/Pet_Breeds/cat/persian cat_81.jpg\n",
      "/Users/paavankumars/Documents/Pet_Breeds/cat/abyssinian_62.jpg\n",
      "/Users/paavankumars/Documents/Pet_Breeds/cat/abyssinian_76.jpg\n",
      "/Users/paavankumars/Documents/Pet_Breeds/cat/persian cat_95.jpg\n",
      "/Users/paavankumars/Documents/Pet_Breeds/cat/persian cat_94.jpg\n",
      "/Users/paavankumars/Documents/Pet_Breeds/cat/abyssinian_77.jpg\n",
      "/Users/paavankumars/Documents/Pet_Breeds/cat/abyssinian_63.jpg\n",
      "/Users/paavankumars/Documents/Pet_Breeds/cat/persian cat_80.jpg\n",
      "/Users/paavankumars/Documents/Pet_Breeds/cat/abyssinian_88.jpg\n",
      "/Users/paavankumars/Documents/Pet_Breeds/cat/mumbai cat_34.jpg\n",
      "/Users/paavankumars/Documents/Pet_Breeds/cat/mumbai cat_20.jpg\n",
      "/Users/paavankumars/Documents/Pet_Breeds/cat/persian cat_57.jpg\n",
      "/Users/paavankumars/Documents/Pet_Breeds/cat/persian cat_43.jpg\n",
      "/Users/paavankumars/Documents/Pet_Breeds/cat/american shorthair_168.jpg\n",
      "/Users/paavankumars/Documents/Pet_Breeds/cat/persian cat_161.jpg\n",
      "/Users/paavankumars/Documents/Pet_Breeds/cat/abyssinian_2.jpg\n",
      "/Users/paavankumars/Documents/Pet_Breeds/cat/american shorthair_154.jpg\n",
      "/Users/paavankumars/Documents/Pet_Breeds/cat/abyssinian_145.jpg\n",
      "/Users/paavankumars/Documents/Pet_Breeds/cat/abyssinian_151.jpg\n",
      "/Users/paavankumars/Documents/Pet_Breeds/cat/american shorthair_140.jpg\n",
      "/Users/paavankumars/Documents/Pet_Breeds/cat/persian cat_149.jpg\n",
      "/Users/paavankumars/Documents/Pet_Breeds/cat/american shorthair_5.jpg\n",
      "/Users/paavankumars/Documents/Pet_Breeds/cat/american shorthair_58.jpg\n",
      "/Users/paavankumars/Documents/Pet_Breeds/cat/maine coon_160.jpg\n",
      "/Users/paavankumars/Documents/Pet_Breeds/cat/mumbai cat_107.jpg\n",
      "/Users/paavankumars/Documents/Pet_Breeds/cat/american shorthair_70.jpg\n",
      "/Users/paavankumars/Documents/Pet_Breeds/cat/american shorthair_64.jpg\n",
      "/Users/paavankumars/Documents/Pet_Breeds/cat/maine coon_37.jpg\n",
      "/Users/paavankumars/Documents/Pet_Breeds/cat/mumbai cat_113.jpg\n",
      "/Users/paavankumars/Documents/Pet_Breeds/cat/maine coon_164.jpg\n",
      "/Users/paavankumars/Documents/Pet_Breeds/cat/american shorthair_156.jpeg\n",
      "/Users/paavankumars/Documents/Pet_Breeds/cat/american shorthair_48.jpg\n",
      "/Users/paavankumars/Documents/Pet_Breeds/cat/maine coon_170.jpg\n",
      "/Users/paavankumars/Documents/Pet_Breeds/cat/maine coon_9.jpg\n",
      "/Users/paavankumars/Documents/Pet_Breeds/cat/maine coon_158.jpg\n",
      "/Users/paavankumars/Documents/Pet_Breeds/cat/mumbai cat_117.jpg\n",
      "/Users/paavankumars/Documents/Pet_Breeds/cat/maine coon_33.jpg\n",
      "/Users/paavankumars/Documents/Pet_Breeds/cat/american shorthair_60.jpg\n",
      "/Users/paavankumars/Documents/Pet_Breeds/cat/american shorthair_74.jpg\n",
      "/Users/paavankumars/Documents/Pet_Breeds/cat/maine coon_27.JPG\n",
      "/Users/paavankumars/Documents/Pet_Breeds/cat/mumbai cat_103.jpg\n",
      "/Users/paavankumars/Documents/Pet_Breeds/cat/american shorthair_1.jpg\n",
      "/Users/paavankumars/Documents/Pet_Breeds/cat/abyssinian_169.jpg\n",
      "/Users/paavankumars/Documents/Pet_Breeds/cat/abyssinian_6.jpg\n",
      "/Users/paavankumars/Documents/Pet_Breeds/cat/persian cat_165.jpg\n",
      "/Users/paavankumars/Documents/Pet_Breeds/cat/american shorthair_144.jpg\n",
      "/Users/paavankumars/Documents/Pet_Breeds/cat/abyssinian_155.jpg\n",
      "/Users/paavankumars/Documents/Pet_Breeds/cat/abyssinian_141.jpg\n",
      "/Users/paavankumars/Documents/Pet_Breeds/cat/persian cat_159.jpg\n",
      "/Users/paavankumars/Documents/Pet_Breeds/cat/american shorthair_150.jpg\n",
      "/Users/paavankumars/Documents/Pet_Breeds/cat/abyssinian_98.jpg\n",
      "/Users/paavankumars/Documents/Pet_Breeds/cat/mumbai cat_24.jpg\n",
      "/Users/paavankumars/Documents/Pet_Breeds/dog/pug_52.jpg\n",
      "/Users/paavankumars/Documents/Pet_Breeds/dog/husky_120.jpg\n",
      "/Users/paavankumars/Documents/Pet_Breeds/dog/husky_134.jpg\n",
      "/Users/paavankumars/Documents/Pet_Breeds/dog/pug_46.jpg\n",
      "/Users/paavankumars/Documents/Pet_Breeds/dog/husky_108.jpg\n",
      "/Users/paavankumars/Documents/Pet_Breeds/dog/pug_91.jpg\n",
      "/Users/paavankumars/Documents/Pet_Breeds/dog/pug_85.jpg\n",
      "/Users/paavankumars/Documents/Pet_Breeds/dog/husky_99.jpg\n",
      "/Users/paavankumars/Documents/Pet_Breeds/dog/golden retriever_122.jpg\n",
      "/Users/paavankumars/Documents/Pet_Breeds/dog/german shepherd_12.jpg\n",
      "/Users/paavankumars/Documents/Pet_Breeds/dog/husky_66.jpg\n",
      "/Users/paavankumars/Documents/Pet_Breeds/dog/shiba inu_113.jpg\n",
      "/Users/paavankumars/Documents/Pet_Breeds/dog/shiba inu_107.jpg\n",
      "/Users/paavankumars/Documents/Pet_Breeds/dog/husky_72.jpg\n",
      "/Users/paavankumars/Documents/Pet_Breeds/dog/golden retriever_22.jpg\n",
      "/Users/paavankumars/Documents/Pet_Breeds/dog/golden retriever_36.jpg\n",
      "/Users/paavankumars/Documents/Pet_Breeds/dog/husky_75.jpeg\n",
      "/Users/paavankumars/Documents/Pet_Breeds/dog/german shepherd_162.jpg\n",
      "/Users/paavankumars/Documents/Pet_Breeds/dog/pug_103.jpg\n"
     ]
    },
    {
     "name": "stdout",
     "output_type": "stream",
     "text": [
      "/Users/paavankumars/Documents/Pet_Breeds/dog/shiba inu_69.jpg\n",
      "/Users/paavankumars/Documents/Pet_Breeds/dog/pug_117.jpg\n",
      "/Users/paavankumars/Documents/Pet_Breeds/dog/shiba inu_55.jpg\n",
      "/Users/paavankumars/Documents/Pet_Breeds/dog/shiba inu_41.jpg\n",
      "/Users/paavankumars/Documents/Pet_Breeds/dog/shiba inu_96.jpg\n",
      "/Users/paavankumars/Documents/Pet_Breeds/dog/shiba inu_82.jpg\n",
      "/Users/paavankumars/Documents/Pet_Breeds/dog/shiba inu_83.jpg\n",
      "/Users/paavankumars/Documents/Pet_Breeds/dog/shiba inu_97.jpg\n",
      "/Users/paavankumars/Documents/Pet_Breeds/dog/shiba inu_40.jpg\n",
      "/Users/paavankumars/Documents/Pet_Breeds/dog/shiba inu_54.jpg\n",
      "/Users/paavankumars/Documents/Pet_Breeds/dog/pug_116.jpg\n",
      "/Users/paavankumars/Documents/Pet_Breeds/dog/pug_102.jpg\n",
      "/Users/paavankumars/Documents/Pet_Breeds/dog/shiba inu_68.jpg\n",
      "/Users/paavankumars/Documents/Pet_Breeds/dog/shiba inu_1.jpg\n",
      "/Users/paavankumars/Documents/Pet_Breeds/dog/shiba inu_56.jpeg\n",
      "/Users/paavankumars/Documents/Pet_Breeds/dog/german shepherd_163.jpg\n",
      "/Users/paavankumars/Documents/Pet_Breeds/dog/golden retriever_37.jpg\n",
      "/Users/paavankumars/Documents/Pet_Breeds/dog/golden retriever_23.jpg\n",
      "/Users/paavankumars/Documents/Pet_Breeds/dog/shiba inu_106.jpg\n",
      "/Users/paavankumars/Documents/Pet_Breeds/dog/husky_73.jpg\n",
      "/Users/paavankumars/Documents/Pet_Breeds/dog/husky_67.jpg\n",
      "/Users/paavankumars/Documents/Pet_Breeds/dog/shiba inu_112.jpg\n",
      "/Users/paavankumars/Documents/Pet_Breeds/dog/german shepherd_13.jpg\n",
      "/Users/paavankumars/Documents/Pet_Breeds/dog/golden retriever_123.jpg\n",
      "/Users/paavankumars/Documents/Pet_Breeds/dog/golden retriever_137.jpg\n",
      "/Users/paavankumars/Documents/Pet_Breeds/dog/husky_98.jpg\n",
      "/Users/paavankumars/Documents/Pet_Breeds/dog/pug_84.jpg\n",
      "/Users/paavankumars/Documents/Pet_Breeds/dog/pug_90.jpg\n",
      "/Users/paavankumars/Documents/Pet_Breeds/dog/husky_109.jpg\n",
      "/Users/paavankumars/Documents/Pet_Breeds/dog/husky_135.jpg\n",
      "/Users/paavankumars/Documents/Pet_Breeds/dog/pug_47.jpg\n",
      "/Users/paavankumars/Documents/Pet_Breeds/dog/pug_53.jpg\n",
      "/Users/paavankumars/Documents/Pet_Breeds/dog/husky_121.jpg\n",
      "/Users/paavankumars/Documents/Pet_Breeds/dog/pug_45.jpg\n",
      "/Users/paavankumars/Documents/Pet_Breeds/dog/husky_137.jpg\n",
      "/Users/paavankumars/Documents/Pet_Breeds/dog/husky_123.jpg\n",
      "/Users/paavankumars/Documents/Pet_Breeds/dog/pug_51.jpg\n",
      "/Users/paavankumars/Documents/Pet_Breeds/dog/pug_79.jpg\n",
      "/Users/paavankumars/Documents/Pet_Breeds/dog/pug_86.jpg\n",
      "/Users/paavankumars/Documents/Pet_Breeds/dog/pug_92.jpg\n",
      "/Users/paavankumars/Documents/Pet_Breeds/dog/golden retriever_109.jpg\n",
      "/Users/paavankumars/Documents/Pet_Breeds/dog/golden retriever_121.jpg\n",
      "/Users/paavankumars/Documents/Pet_Breeds/dog/golden retriever_135.jpg\n",
      "/Users/paavankumars/Documents/Pet_Breeds/dog/german shepherd_11.jpg\n",
      "/Users/paavankumars/Documents/Pet_Breeds/dog/shiba inu_138.jpg\n",
      "/Users/paavankumars/Documents/Pet_Breeds/dog/husky_59.jpg\n",
      "/Users/paavankumars/Documents/Pet_Breeds/dog/husky_71.jpg\n",
      "/Users/paavankumars/Documents/Pet_Breeds/dog/shiba inu_104.jpg\n",
      "/Users/paavankumars/Documents/Pet_Breeds/dog/german shepherd_39.jpg\n",
      "/Users/paavankumars/Documents/Pet_Breeds/dog/shiba inu_110.jpg\n",
      "/Users/paavankumars/Documents/Pet_Breeds/dog/husky_65.jpg\n",
      "/Users/paavankumars/Documents/Pet_Breeds/dog/golden retriever_35.jpg\n",
      "/Users/paavankumars/Documents/Pet_Breeds/dog/golden retriever_21.jpg\n",
      "/Users/paavankumars/Documents/Pet_Breeds/dog/german shepherd_161.jpg\n",
      "/Users/paavankumars/Documents/Pet_Breeds/dog/german shepherd_149.jpg\n",
      "/Users/paavankumars/Documents/Pet_Breeds/dog/pug_114.jpg\n",
      "/Users/paavankumars/Documents/Pet_Breeds/dog/shiba inu_3.jpg\n",
      "/Users/paavankumars/Documents/Pet_Breeds/dog/pug_100.jpg\n",
      "/Users/paavankumars/Documents/Pet_Breeds/dog/pug_128.jpg\n",
      "/Users/paavankumars/Documents/Pet_Breeds/dog/shiba inu_42.jpg\n",
      "/Users/paavankumars/Documents/Pet_Breeds/dog/shiba inu_81.jpg\n",
      "/Users/paavankumars/Documents/Pet_Breeds/dog/shiba inu_95.jpg\n",
      "/Users/paavankumars/Documents/Pet_Breeds/dog/shiba inu_94.jpg\n",
      "/Users/paavankumars/Documents/Pet_Breeds/dog/shiba inu_80.jpg\n",
      "/Users/paavankumars/Documents/Pet_Breeds/dog/shiba inu_57.jpg\n",
      "/Users/paavankumars/Documents/Pet_Breeds/dog/pug_129.jpg\n",
      "/Users/paavankumars/Documents/Pet_Breeds/dog/shiba inu_43.jpg\n",
      "/Users/paavankumars/Documents/Pet_Breeds/dog/shiba inu_2.jpg\n",
      "/Users/paavankumars/Documents/Pet_Breeds/dog/pug_101.jpg\n",
      "/Users/paavankumars/Documents/Pet_Breeds/dog/pug_115.jpg\n",
      "/Users/paavankumars/Documents/Pet_Breeds/dog/german shepherd_148.jpg\n",
      "/Users/paavankumars/Documents/Pet_Breeds/dog/german shepherd_160.jpg\n",
      "/Users/paavankumars/Documents/Pet_Breeds/dog/golden retriever_20.jpg\n",
      "/Users/paavankumars/Documents/Pet_Breeds/dog/golden retriever_34.jpg\n",
      "/Users/paavankumars/Documents/Pet_Breeds/dog/shiba inu_111.jpg\n",
      "/Users/paavankumars/Documents/Pet_Breeds/dog/german shepherd_38.jpg\n",
      "/Users/paavankumars/Documents/Pet_Breeds/dog/husky_64.jpg\n",
      "/Users/paavankumars/Documents/Pet_Breeds/dog/husky_70.jpg\n",
      "/Users/paavankumars/Documents/Pet_Breeds/dog/shiba inu_105.jpg\n",
      "/Users/paavankumars/Documents/Pet_Breeds/dog/husky_58.jpg\n",
      "/Users/paavankumars/Documents/Pet_Breeds/dog/shiba inu_139.jpg\n",
      "/Users/paavankumars/Documents/Pet_Breeds/dog/german shepherd_10.jpg\n",
      "/Users/paavankumars/Documents/Pet_Breeds/dog/golden retriever_134.jpg\n",
      "/Users/paavankumars/Documents/Pet_Breeds/dog/golden retriever_120.jpg\n",
      "/Users/paavankumars/Documents/Pet_Breeds/dog/golden retriever_108.jpg\n",
      "/Users/paavankumars/Documents/Pet_Breeds/dog/pug_93.jpg\n",
      "/Users/paavankumars/Documents/Pet_Breeds/dog/pug_87.jpg\n",
      "/Users/paavankumars/Documents/Pet_Breeds/dog/pug_78.jpg\n",
      "/Users/paavankumars/Documents/Pet_Breeds/dog/husky_122.jpg\n",
      "/Users/paavankumars/Documents/Pet_Breeds/dog/pug_50.jpg\n",
      "/Users/paavankumars/Documents/Pet_Breeds/dog/pug_44.jpg\n",
      "/Users/paavankumars/Documents/Pet_Breeds/dog/husky_136.jpg\n",
      "/Users/paavankumars/Documents/Pet_Breeds/dog/pug_68.jpg\n",
      "/Users/paavankumars/Documents/Pet_Breeds/dog/husky_132.jpg\n",
      "/Users/paavankumars/Documents/Pet_Breeds/dog/pug_40.jpg\n",
      "/Users/paavankumars/Documents/Pet_Breeds/dog/pug_54.JPG\n",
      "/Users/paavankumars/Documents/Pet_Breeds/dog/husky_126.jpg\n",
      "/Users/paavankumars/Documents/Pet_Breeds/dog/pug_83.jpg\n",
      "/Users/paavankumars/Documents/Pet_Breeds/dog/pug_97.jpg\n",
      "/Users/paavankumars/Documents/Pet_Breeds/dog/golden retriever_124.jpg\n",
      "/Users/paavankumars/Documents/Pet_Breeds/dog/golden retriever_130.jpg\n",
      "/Users/paavankumars/Documents/Pet_Breeds/dog/golden retriever_118.jpg\n",
      "/Users/paavankumars/Documents/Pet_Breeds/dog/pug_104.jpeg\n",
      "/Users/paavankumars/Documents/Pet_Breeds/dog/german shepherd_28.jpg\n",
      "/Users/paavankumars/Documents/Pet_Breeds/dog/pug_8.jpg\n",
      "/Users/paavankumars/Documents/Pet_Breeds/dog/husky_74.jpg\n",
      "/Users/paavankumars/Documents/Pet_Breeds/dog/husky_60.jpg\n",
      "/Users/paavankumars/Documents/Pet_Breeds/dog/german shepherd_8.jpg\n",
      "/Users/paavankumars/Documents/Pet_Breeds/dog/shiba inu_115.jpg\n",
      "/Users/paavankumars/Documents/Pet_Breeds/dog/german shepherd_14.jpg\n",
      "/Users/paavankumars/Documents/Pet_Breeds/dog/husky_48.JPG\n",
      "/Users/paavankumars/Documents/Pet_Breeds/dog/shiba inu_129.jpg\n",
      "/Users/paavankumars/Documents/Pet_Breeds/dog/golden retriever_24.jpg\n",
      "/Users/paavankumars/Documents/Pet_Breeds/dog/golden retriever_18.jpg\n",
      "/Users/paavankumars/Documents/Pet_Breeds/dog/german shepherd_158.jpg\n",
      "/Users/paavankumars/Documents/Pet_Breeds/dog/german shepherd_164.jpg\n",
      "/Users/paavankumars/Documents/Pet_Breeds/dog/german shepherd_170.jpg\n",
      "/Users/paavankumars/Documents/Pet_Breeds/dog/shiba inu_47.jpg\n"
     ]
    }
   ],
   "source": [
    "img_size = 150\n",
    "data = []\n",
    "\n",
    "for category in Categories:\n",
    "    folder = os.path.join(Dirct, category)\n",
    "    label =  Categories.index(category)\n",
    "    for img in os.listdir(folder): \n",
    "        img_path = os.path.join(folder,img)\n",
    "        img_arr = cv2.imread((img_path), cv2.IMREAD_GRAYSCALE)\n",
    "        try:\n",
    "            img_arr = cv2.resize(img_arr, (img_size, img_size), interpolation=cv2.INTER_AREA)\n",
    "            print(img_path)\n",
    "        except:\n",
    "            break\n",
    "    \n",
    "        data.append([img_arr, label])\n",
    "        #plt.imshow(img_arr)\n",
    "     \n",
    "     "
   ]
  },
  {
   "cell_type": "code",
   "execution_count": 26,
   "id": "ce646eef",
   "metadata": {},
   "outputs": [
    {
     "data": {
      "text/plain": [
       "260"
      ]
     },
     "execution_count": 26,
     "metadata": {},
     "output_type": "execute_result"
    }
   ],
   "source": [
    "len(data)"
   ]
  },
  {
   "cell_type": "code",
   "execution_count": 27,
   "id": "ae20b162",
   "metadata": {},
   "outputs": [],
   "source": [
    "random.shuffle(data)"
   ]
  },
  {
   "cell_type": "code",
   "execution_count": 28,
   "id": "f269ebca",
   "metadata": {},
   "outputs": [],
   "source": [
    "X = []\n",
    "y = []\n",
    "for features,label in data:\n",
    "        X.append(features)\n",
    "        y.append(label)"
   ]
  },
  {
   "cell_type": "code",
   "execution_count": 29,
   "id": "f4b0644b",
   "metadata": {},
   "outputs": [],
   "source": [
    "X = np.array(X)\n",
    "y = np.array(y)"
   ]
  },
  {
   "cell_type": "code",
   "execution_count": 30,
   "id": "6a85adb0",
   "metadata": {},
   "outputs": [
    {
     "data": {
      "text/plain": [
       "260"
      ]
     },
     "execution_count": 30,
     "metadata": {},
     "output_type": "execute_result"
    }
   ],
   "source": [
    "len(X)"
   ]
  },
  {
   "cell_type": "code",
   "execution_count": 31,
   "id": "b02c92bf",
   "metadata": {},
   "outputs": [
    {
     "data": {
      "text/plain": [
       "260"
      ]
     },
     "execution_count": 31,
     "metadata": {},
     "output_type": "execute_result"
    }
   ],
   "source": [
    "len(y)"
   ]
  },
  {
   "cell_type": "code",
   "execution_count": 32,
   "id": "6f5d6268",
   "metadata": {},
   "outputs": [],
   "source": [
    "pickle.dump(X,open('X.pkl','wb'))\n",
    "pickle.dump(y,open('y.pkl','wb'))"
   ]
  },
  {
   "cell_type": "code",
   "execution_count": 33,
   "id": "0449668b",
   "metadata": {},
   "outputs": [],
   "source": [
    "X = pickle.load(open('X.pkl','rb'))\n",
    "y = pickle.load(open('X.pkl','rb')) "
   ]
  },
  {
   "cell_type": "code",
   "execution_count": 34,
   "id": "fe0afad5",
   "metadata": {},
   "outputs": [
    {
     "data": {
      "text/plain": [
       "array([[[2.51764706, 2.36470588, 2.36470588, ..., 2.47058824,\n",
       "         2.47058824, 2.49411765],\n",
       "        [1.81176471, 1.43529412, 1.43529412, ..., 1.65882353,\n",
       "         1.67058824, 1.67058824],\n",
       "        [1.64705882, 1.30588235, 1.29411765, ..., 1.64705882,\n",
       "         1.64705882, 1.64705882],\n",
       "        ...,\n",
       "        [2.05882353, 1.70588235, 1.65882353, ..., 1.64705882,\n",
       "         1.64705882, 1.65882353],\n",
       "        [2.05882353, 1.75294118, 1.71764706, ..., 1.63529412,\n",
       "         1.64705882, 1.63529412],\n",
       "        [2.03529412, 1.74117647, 1.72941176, ..., 1.64705882,\n",
       "         1.64705882, 1.63529412]],\n",
       "\n",
       "       [[2.84705882, 2.71764706, 2.98823529, ..., 2.22352941,\n",
       "         2.37647059, 2.29411765],\n",
       "        [2.87058824, 2.69411765, 2.98823529, ..., 2.30588235,\n",
       "         2.24705882, 1.83529412],\n",
       "        [2.87058824, 2.63529412, 2.98823529, ..., 2.07058824,\n",
       "         2.11764706, 1.71764706],\n",
       "        ...,\n",
       "        [1.45882353, 1.61176471, 1.61176471, ..., 1.23529412,\n",
       "         1.50588235, 1.02352941],\n",
       "        [1.85882353, 1.8       , 1.84705882, ..., 1.4       ,\n",
       "         1.15294118, 1.11764706],\n",
       "        [1.50588235, 1.75294118, 1.85882353, ..., 1.30588235,\n",
       "         1.45882353, 1.07058824]],\n",
       "\n",
       "       [[0.17647059, 0.17647059, 0.17647059, ..., 0.18823529,\n",
       "         0.11764706, 0.11764706],\n",
       "        [0.16470588, 0.17647059, 0.17647059, ..., 0.12941176,\n",
       "         0.11764706, 0.11764706],\n",
       "        [0.16470588, 0.17647059, 0.17647059, ..., 0.12941176,\n",
       "         0.11764706, 0.11764706],\n",
       "        ...,\n",
       "        [0.81176471, 0.78823529, 0.56470588, ..., 0.74117647,\n",
       "         0.65882353, 0.74117647],\n",
       "        [0.61176471, 0.96470588, 0.69411765, ..., 0.70588235,\n",
       "         0.56470588, 0.88235294],\n",
       "        [0.68235294, 1.29411765, 0.83529412, ..., 0.63529412,\n",
       "         0.61176471, 0.74117647]],\n",
       "\n",
       "       ...,\n",
       "\n",
       "       [[0.11764706, 0.14117647, 0.21176471, ..., 0.12941176,\n",
       "         0.10588235, 0.08235294],\n",
       "        [0.11764706, 0.16470588, 0.21176471, ..., 0.12941176,\n",
       "         0.17647059, 0.17647059],\n",
       "        [0.14117647, 0.16470588, 0.16470588, ..., 0.12941176,\n",
       "         0.11764706, 0.16470588],\n",
       "        ...,\n",
       "        [0.42352941, 0.55294118, 1.2       , ..., 0.44705882,\n",
       "         0.42352941, 0.4       ],\n",
       "        [0.47058824, 1.04705882, 1.05882353, ..., 0.49411765,\n",
       "         0.49411765, 0.31764706],\n",
       "        [0.48235294, 0.51764706, 0.72941176, ..., 0.49411765,\n",
       "         0.55294118, 0.4       ]],\n",
       "\n",
       "       [[1.12941176, 1.        , 0.52941176, ..., 0.2       ,\n",
       "         0.2       , 0.18823529],\n",
       "        [0.50588235, 0.48235294, 0.49411765, ..., 0.21176471,\n",
       "         0.2       , 0.18823529],\n",
       "        [0.37647059, 0.37647059, 0.50588235, ..., 0.21176471,\n",
       "         0.2       , 0.18823529],\n",
       "        ...,\n",
       "        [0.96470588, 0.96470588, 0.95294118, ..., 1.32941176,\n",
       "         1.28235294, 1.2       ],\n",
       "        [0.97647059, 1.        , 0.95294118, ..., 1.28235294,\n",
       "         1.31764706, 1.24705882],\n",
       "        [0.94117647, 1.02352941, 0.98823529, ..., 1.32941176,\n",
       "         1.4       , 1.43529412]],\n",
       "\n",
       "       [[3.        , 3.        , 3.        , ..., 3.        ,\n",
       "         3.        , 3.        ],\n",
       "        [3.        , 3.        , 3.        , ..., 3.        ,\n",
       "         3.        , 3.        ],\n",
       "        [3.        , 3.        , 3.        , ..., 3.        ,\n",
       "         3.        , 3.        ],\n",
       "        ...,\n",
       "        [3.        , 3.        , 3.        , ..., 3.        ,\n",
       "         3.        , 3.        ],\n",
       "        [3.        , 3.        , 3.        , ..., 3.        ,\n",
       "         3.        , 3.        ],\n",
       "        [3.        , 3.        , 3.        , ..., 3.        ,\n",
       "         3.        , 3.        ]]])"
      ]
     },
     "execution_count": 34,
     "metadata": {},
     "output_type": "execute_result"
    }
   ],
   "source": [
    "X=X/85\n",
    "X"
   ]
  },
  {
   "cell_type": "code",
   "execution_count": 35,
   "id": "49fdee9e",
   "metadata": {},
   "outputs": [
    {
     "data": {
      "text/plain": [
       "(260, 150, 150)"
      ]
     },
     "execution_count": 35,
     "metadata": {},
     "output_type": "execute_result"
    }
   ],
   "source": [
    "X.shape"
   ]
  },
  {
   "cell_type": "code",
   "execution_count": 36,
   "id": "0ef0d3f2",
   "metadata": {},
   "outputs": [],
   "source": [
    "model = Sequential()\n",
    "model.add(Conv2D(64, (3,3), activation = 'relu'))\n",
    "model.add(MaxPooling2D(2,2))\n",
    "\n",
    "model.add(Conv2D(64, (3,3), activation = 'relu'))\n",
    "model.add(MaxPooling2D(2,2))\n",
    "model.add(Flatten())\n",
    "model.add(Dense(128, input_shape = X.shape[1:], activation = 'relu'))\n",
    "model.add(Dense(2,activation = 'softmax'))"
   ]
  },
  {
   "cell_type": "code",
   "execution_count": 37,
   "id": "d651fb3a",
   "metadata": {},
   "outputs": [],
   "source": [
    "model.compile(optimizer = 'adam', loss = 'sparse_categorical_crossentropy', metrics=['accuracy']) "
   ]
  },
  {
   "cell_type": "code",
   "execution_count": 38,
   "id": "2ac0c177",
   "metadata": {},
   "outputs": [
    {
     "name": "stdout",
     "output_type": "stream",
     "text": [
      "Epoch 1/5\n"
     ]
    },
    {
     "ename": "ValueError",
     "evalue": "in user code:\n\n    File \"/Users/paavankumars/anaconda3/lib/python3.10/site-packages/keras/src/engine/training.py\", line 1338, in train_function  *\n        return step_function(self, iterator)\n    File \"/Users/paavankumars/anaconda3/lib/python3.10/site-packages/keras/src/engine/training.py\", line 1322, in step_function  **\n        outputs = model.distribute_strategy.run(run_step, args=(data,))\n    File \"/Users/paavankumars/anaconda3/lib/python3.10/site-packages/keras/src/engine/training.py\", line 1303, in run_step  **\n        outputs = model.train_step(data)\n    File \"/Users/paavankumars/anaconda3/lib/python3.10/site-packages/keras/src/engine/training.py\", line 1080, in train_step\n        y_pred = self(x, training=True)\n    File \"/Users/paavankumars/anaconda3/lib/python3.10/site-packages/keras/src/utils/traceback_utils.py\", line 70, in error_handler\n        raise e.with_traceback(filtered_tb) from None\n    File \"/Users/paavankumars/anaconda3/lib/python3.10/site-packages/keras/src/engine/input_spec.py\", line 253, in assert_input_compatibility\n        raise ValueError(\n\n    ValueError: Exception encountered when calling layer 'sequential' (type Sequential).\n    \n    Input 0 of layer \"conv2d\" is incompatible with the layer: expected min_ndim=4, found ndim=3. Full shape received: (None, 150, 150)\n    \n    Call arguments received by layer 'sequential' (type Sequential):\n      • inputs=tf.Tensor(shape=(None, 150, 150), dtype=float32)\n      • training=True\n      • mask=None\n",
     "output_type": "error",
     "traceback": [
      "\u001b[0;31m---------------------------------------------------------------------------\u001b[0m",
      "\u001b[0;31mValueError\u001b[0m                                Traceback (most recent call last)",
      "Cell \u001b[0;32mIn[38], line 1\u001b[0m\n\u001b[0;32m----> 1\u001b[0m \u001b[43mmodel\u001b[49m\u001b[38;5;241;43m.\u001b[39;49m\u001b[43mfit\u001b[49m\u001b[43m(\u001b[49m\u001b[43mX\u001b[49m\u001b[43m,\u001b[49m\u001b[43my\u001b[49m\u001b[43m,\u001b[49m\u001b[43m \u001b[49m\u001b[43mepochs\u001b[49m\u001b[38;5;241;43m=\u001b[39;49m\u001b[38;5;241;43m5\u001b[39;49m\u001b[43m,\u001b[49m\u001b[43m \u001b[49m\u001b[43mvalidation_split\u001b[49m\u001b[38;5;241;43m=\u001b[39;49m\u001b[38;5;241;43m0.1\u001b[39;49m\u001b[43m)\u001b[49m\n",
      "File \u001b[0;32m~/anaconda3/lib/python3.10/site-packages/keras/src/utils/traceback_utils.py:70\u001b[0m, in \u001b[0;36mfilter_traceback.<locals>.error_handler\u001b[0;34m(*args, **kwargs)\u001b[0m\n\u001b[1;32m     67\u001b[0m     filtered_tb \u001b[38;5;241m=\u001b[39m _process_traceback_frames(e\u001b[38;5;241m.\u001b[39m__traceback__)\n\u001b[1;32m     68\u001b[0m     \u001b[38;5;66;03m# To get the full stack trace, call:\u001b[39;00m\n\u001b[1;32m     69\u001b[0m     \u001b[38;5;66;03m# `tf.debugging.disable_traceback_filtering()`\u001b[39;00m\n\u001b[0;32m---> 70\u001b[0m     \u001b[38;5;28;01mraise\u001b[39;00m e\u001b[38;5;241m.\u001b[39mwith_traceback(filtered_tb) \u001b[38;5;28;01mfrom\u001b[39;00m \u001b[38;5;28mNone\u001b[39m\n\u001b[1;32m     71\u001b[0m \u001b[38;5;28;01mfinally\u001b[39;00m:\n\u001b[1;32m     72\u001b[0m     \u001b[38;5;28;01mdel\u001b[39;00m filtered_tb\n",
      "File \u001b[0;32m/var/folders/fc/qxfw8bds0xvd0rz9t9y5k1qm0000gn/T/__autograph_generated_fileo_w83wlr.py:15\u001b[0m, in \u001b[0;36mouter_factory.<locals>.inner_factory.<locals>.tf__train_function\u001b[0;34m(iterator)\u001b[0m\n\u001b[1;32m     13\u001b[0m \u001b[38;5;28;01mtry\u001b[39;00m:\n\u001b[1;32m     14\u001b[0m     do_return \u001b[38;5;241m=\u001b[39m \u001b[38;5;28;01mTrue\u001b[39;00m\n\u001b[0;32m---> 15\u001b[0m     retval_ \u001b[38;5;241m=\u001b[39m ag__\u001b[38;5;241m.\u001b[39mconverted_call(ag__\u001b[38;5;241m.\u001b[39mld(step_function), (ag__\u001b[38;5;241m.\u001b[39mld(\u001b[38;5;28mself\u001b[39m), ag__\u001b[38;5;241m.\u001b[39mld(iterator)), \u001b[38;5;28;01mNone\u001b[39;00m, fscope)\n\u001b[1;32m     16\u001b[0m \u001b[38;5;28;01mexcept\u001b[39;00m:\n\u001b[1;32m     17\u001b[0m     do_return \u001b[38;5;241m=\u001b[39m \u001b[38;5;28;01mFalse\u001b[39;00m\n",
      "\u001b[0;31mValueError\u001b[0m: in user code:\n\n    File \"/Users/paavankumars/anaconda3/lib/python3.10/site-packages/keras/src/engine/training.py\", line 1338, in train_function  *\n        return step_function(self, iterator)\n    File \"/Users/paavankumars/anaconda3/lib/python3.10/site-packages/keras/src/engine/training.py\", line 1322, in step_function  **\n        outputs = model.distribute_strategy.run(run_step, args=(data,))\n    File \"/Users/paavankumars/anaconda3/lib/python3.10/site-packages/keras/src/engine/training.py\", line 1303, in run_step  **\n        outputs = model.train_step(data)\n    File \"/Users/paavankumars/anaconda3/lib/python3.10/site-packages/keras/src/engine/training.py\", line 1080, in train_step\n        y_pred = self(x, training=True)\n    File \"/Users/paavankumars/anaconda3/lib/python3.10/site-packages/keras/src/utils/traceback_utils.py\", line 70, in error_handler\n        raise e.with_traceback(filtered_tb) from None\n    File \"/Users/paavankumars/anaconda3/lib/python3.10/site-packages/keras/src/engine/input_spec.py\", line 253, in assert_input_compatibility\n        raise ValueError(\n\n    ValueError: Exception encountered when calling layer 'sequential' (type Sequential).\n    \n    Input 0 of layer \"conv2d\" is incompatible with the layer: expected min_ndim=4, found ndim=3. Full shape received: (None, 150, 150)\n    \n    Call arguments received by layer 'sequential' (type Sequential):\n      • inputs=tf.Tensor(shape=(None, 150, 150), dtype=float32)\n      • training=True\n      • mask=None\n"
     ]
    }
   ],
   "source": [
    "model.fit(X,y, epochs=5, validation_split=0.1) "
   ]
  },
  {
   "cell_type": "code",
   "execution_count": null,
   "id": "7e1e0605",
   "metadata": {},
   "outputs": [],
   "source": []
  }
 ],
 "metadata": {
  "kernelspec": {
   "display_name": "Python 3 (ipykernel)",
   "language": "python",
   "name": "python3"
  },
  "language_info": {
   "codemirror_mode": {
    "name": "ipython",
    "version": 3
   },
   "file_extension": ".py",
   "mimetype": "text/x-python",
   "name": "python",
   "nbconvert_exporter": "python",
   "pygments_lexer": "ipython3",
   "version": "3.10.9"
  }
 },
 "nbformat": 4,
 "nbformat_minor": 5
}
