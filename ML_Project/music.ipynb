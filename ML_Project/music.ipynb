{
 "cells": [
  {
   "cell_type": "code",
   "execution_count": 51,
   "id": "850d45ac",
   "metadata": {},
   "outputs": [
    {
     "name": "stdout",
     "output_type": "stream",
     "text": [
      "/Users/paavankumars/Desktop/ML\n"
     ]
    }
   ],
   "source": [
    "cd /Users/paavankumars/Desktop/ML/"
   ]
  },
  {
   "cell_type": "code",
   "execution_count": 52,
   "id": "6b52bb35",
   "metadata": {},
   "outputs": [
    {
     "name": "stdout",
     "output_type": "stream",
     "text": [
      "1_6_ML.ipynb                  heart.csv\r\n",
      "25_may_ml.ipynb               ml.ipynb\r\n",
      "Iris (3).csv                  ml4.ipynb\r\n",
      "ML_2.ipynb.webloc             music.csv\r\n",
      "ML_Housingprice.ipynb.webloc  music.ipynb\r\n",
      "ML_lab3.ipynb.webloc          pet_classifier.ipynb\r\n",
      "X.pkl                         play.csv\r\n",
      "email.csv                     training.ipynb\r\n",
      "emailspam_ml.ipynb            y.pkl\r\n"
     ]
    }
   ],
   "source": [
    "ls"
   ]
  },
  {
   "cell_type": "code",
   "execution_count": 53,
   "id": "53488a37",
   "metadata": {},
   "outputs": [],
   "source": [
    "import pandas as pd\n",
    "from sklearn.model_selection import train_test_split\n",
    "import numpy as np\n",
    "import matplotlib.pyplot as plt\n",
    "from sklearn.naive_bayes import GaussianNB\n",
    "from sklearn.preprocessing import StandardScaler, LabelEncoder\n",
    "from sklearn.metrics import accuracy_score"
   ]
  },
  {
   "cell_type": "code",
   "execution_count": 54,
   "id": "749ee7a0",
   "metadata": {},
   "outputs": [],
   "source": [
    "data = pd.read_csv(\"music.csv\")"
   ]
  },
  {
   "cell_type": "code",
   "execution_count": 55,
   "id": "8bfb1453",
   "metadata": {},
   "outputs": [],
   "source": [
    "features = data.iloc[:, :-1]\n",
    "target = data.iloc[:, -1]"
   ]
  },
  {
   "cell_type": "code",
   "execution_count": 56,
   "id": "27fcf06a",
   "metadata": {},
   "outputs": [
    {
     "name": "stdout",
     "output_type": "stream",
     "text": [
      "     Class  _RMSenergy_Mean  _Lowenergy_Mean  _Fluctuation_Mean  _Tempo_Mean  \\\n",
      "0    relax            0.052            0.591              9.136      130.043   \n",
      "1    relax            0.125            0.439              6.680      142.240   \n",
      "2    relax            0.046            0.639             10.578      188.154   \n",
      "3    relax            0.135            0.603             10.442       65.991   \n",
      "4    relax            0.066            0.591              9.769       88.890   \n",
      "..     ...              ...              ...                ...          ...   \n",
      "395  angry            0.174            0.578              5.265      161.144   \n",
      "396  angry            0.176            0.498              5.042      179.787   \n",
      "397  angry            0.187            0.557              4.724      134.032   \n",
      "398  angry            0.140            0.573              4.470      113.600   \n",
      "399  angry            0.086            0.475              5.343      151.748   \n",
      "\n",
      "     _MFCC_Mean_1  _MFCC_Mean_2  _MFCC_Mean_3  _MFCC_Mean_4  _MFCC_Mean_5  \\\n",
      "0           3.997         0.363         0.887         0.078         0.221   \n",
      "1           4.058         0.516         0.785         0.397         0.556   \n",
      "2           2.775         0.903         0.502         0.329         0.287   \n",
      "3           2.841         1.552         0.612         0.351         0.011   \n",
      "4           3.217         0.228         0.814         0.096         0.434   \n",
      "..            ...           ...           ...           ...           ...   \n",
      "395         2.985         0.065         0.718         0.046         0.265   \n",
      "396         2.790        -0.148         0.342        -0.011         0.029   \n",
      "397         1.672         0.566         0.880        -0.113         0.244   \n",
      "398         1.997        -0.210         0.694         0.089         0.206   \n",
      "399         2.240        -0.014         0.834        -0.021         0.345   \n",
      "\n",
      "     ...  _Chromagram_Mean_8  _Chromagram_Mean_9  _Chromagram_Mean_10  \\\n",
      "0    ...               0.951               0.426                1.000   \n",
      "1    ...               0.000               0.002                1.000   \n",
      "2    ...               0.282               0.184                0.746   \n",
      "3    ...               0.436               0.038                1.000   \n",
      "4    ...               0.635               0.004                0.404   \n",
      "..   ...                 ...                 ...                  ...   \n",
      "395  ...               0.158               0.374                0.838   \n",
      "396  ...               0.043               0.020                1.000   \n",
      "397  ...               1.000               0.052                0.184   \n",
      "398  ...               0.107               0.137                1.000   \n",
      "399  ...               0.009               0.099                1.000   \n",
      "\n",
      "     _Chromagram_Mean_11  _Chromagram_Mean_12  \\\n",
      "0                  0.008                0.101   \n",
      "1                  0.000                0.984   \n",
      "2                  0.016                1.000   \n",
      "3                  0.161                0.757   \n",
      "4                  1.000                0.001   \n",
      "..                   ...                  ...   \n",
      "395                0.413                0.125   \n",
      "396                0.640                0.010   \n",
      "397                0.287                0.101   \n",
      "398                0.304                0.140   \n",
      "399                0.094                0.033   \n",
      "\n",
      "     _HarmonicChangeDetectionFunction_Mean  \\\n",
      "0                                    0.316   \n",
      "1                                    0.285   \n",
      "2                                    0.413   \n",
      "3                                    0.422   \n",
      "4                                    0.345   \n",
      "..                                     ...   \n",
      "395                                  0.323   \n",
      "396                                  0.233   \n",
      "397                                  0.269   \n",
      "398                                  0.277   \n",
      "399                                  0.195   \n",
      "\n",
      "     _HarmonicChangeDetectionFunction_Std  \\\n",
      "0                                   0.261   \n",
      "1                                   0.211   \n",
      "2                                   0.299   \n",
      "3                                   0.265   \n",
      "4                                   0.261   \n",
      "..                                    ...   \n",
      "395                                 0.140   \n",
      "396                                 0.127   \n",
      "397                                 0.157   \n",
      "398                                 0.144   \n",
      "399                                 0.110   \n",
      "\n",
      "     _HarmonicChangeDetectionFunction_Slope  \\\n",
      "0                                     0.018   \n",
      "1                                    -0.082   \n",
      "2                                     0.134   \n",
      "3                                     0.042   \n",
      "4                                     0.089   \n",
      "..                                      ...   \n",
      "395                                   0.120   \n",
      "396                                   0.145   \n",
      "397                                   0.111   \n",
      "398                                   0.061   \n",
      "399                                   0.007   \n",
      "\n",
      "     _HarmonicChangeDetectionFunction_PeriodFreq  \\\n",
      "0                                          1.035   \n",
      "1                                          3.364   \n",
      "2                                          1.682   \n",
      "3                                          0.354   \n",
      "4                                          0.748   \n",
      "..                                           ...   \n",
      "395                                        2.691   \n",
      "396                                        3.364   \n",
      "397                                        3.364   \n",
      "398                                        3.364   \n",
      "399                                        0.641   \n",
      "\n",
      "     _HarmonicChangeDetectionFunction_PeriodAmp  \n",
      "0                                         0.593  \n",
      "1                                         0.702  \n",
      "2                                         0.692  \n",
      "3                                         0.743  \n",
      "4                                         0.674  \n",
      "..                                          ...  \n",
      "395                                       0.867  \n",
      "396                                       0.879  \n",
      "397                                       0.819  \n",
      "398                                       0.811  \n",
      "399                                       0.848  \n",
      "\n",
      "[400 rows x 50 columns]\n"
     ]
    }
   ],
   "source": [
    "print(features)"
   ]
  },
  {
   "cell_type": "code",
   "execution_count": 57,
   "id": "f64a801e",
   "metadata": {},
   "outputs": [
    {
     "name": "stdout",
     "output_type": "stream",
     "text": [
      "0      0.970\n",
      "1      0.967\n",
      "2      0.963\n",
      "3      0.968\n",
      "4      0.957\n",
      "       ...  \n",
      "395    0.969\n",
      "396    0.967\n",
      "397    0.962\n",
      "398    0.969\n",
      "399    0.965\n",
      "Name: _HarmonicChangeDetectionFunction_PeriodEntropy, Length: 400, dtype: float64\n"
     ]
    }
   ],
   "source": [
    "print(target)"
   ]
  },
  {
   "cell_type": "code",
   "execution_count": 58,
   "id": "399c17e8",
   "metadata": {},
   "outputs": [
    {
     "name": "stdout",
     "output_type": "stream",
     "text": [
      "Class Prior Probabilities:\n",
      "0.969    0.1350\n",
      "0.968    0.1300\n",
      "0.967    0.1200\n",
      "0.965    0.1025\n",
      "0.970    0.0950\n",
      "0.966    0.0850\n",
      "0.964    0.0700\n",
      "0.963    0.0650\n",
      "0.971    0.0475\n",
      "0.962    0.0325\n",
      "0.961    0.0225\n",
      "0.972    0.0200\n",
      "0.973    0.0125\n",
      "0.957    0.0100\n",
      "0.975    0.0075\n",
      "0.958    0.0075\n",
      "0.974    0.0075\n",
      "0.976    0.0050\n",
      "0.953    0.0050\n",
      "0.959    0.0050\n",
      "0.952    0.0025\n",
      "0.939    0.0025\n",
      "0.956    0.0025\n",
      "0.954    0.0025\n",
      "0.977    0.0025\n",
      "0.960    0.0025\n",
      "Name: _HarmonicChangeDetectionFunction_PeriodEntropy, dtype: float64\n"
     ]
    }
   ],
   "source": [
    "class_prior_probabilities = target.value_counts(normalize=True)\n",
    "print(\"Class Prior Probabilities:\")\n",
    "print(class_prior_probabilities)"
   ]
  },
  {
   "cell_type": "code",
   "execution_count": 59,
   "id": "8c91dfab",
   "metadata": {},
   "outputs": [],
   "source": [
    "class_conditional_probabilities = {}\n",
    "for feature in features.columns:\n",
    "    feature_probabilities = {}\n",
    "    for value in features[feature].unique():\n",
    "        for class_label in target.unique():\n",
    "            count = ((features[feature] == value) & (target == class_label)).sum()\n",
    "            prob = count / (target == class_label).sum()\n",
    "            feature_probabilities[(value, class_label)] = prob\n",
    "    class_conditional_probabilities[feature] = feature_probabilities"
   ]
  },
  {
   "cell_type": "code",
   "execution_count": 62,
   "id": "e79fe19b",
   "metadata": {},
   "outputs": [],
   "source": [
    "numeric_features = features.select_dtypes(include=['int64', 'float64'])\n",
    "non_numeric_columns = set(features.columns) - set(numeric_features.columns)\n",
    "features = features.drop(columns=non_numeric_columns)"
   ]
  },
  {
   "cell_type": "code",
   "execution_count": 63,
   "id": "d533c6c2",
   "metadata": {
    "scrolled": false
   },
   "outputs": [],
   "source": [
    "scaler = StandardScaler()\n",
    "scaled_features = scaler.fit_transform(features)"
   ]
  },
  {
   "cell_type": "code",
   "execution_count": 64,
   "id": "6c4606ac",
   "metadata": {},
   "outputs": [],
   "source": [
    "label_encoder = LabelEncoder()\n",
    "encoded_target = label_encoder.fit_transform(target)"
   ]
  },
  {
   "cell_type": "code",
   "execution_count": 65,
   "id": "af0d793f",
   "metadata": {},
   "outputs": [],
   "source": [
    "X_train, X_test, y_train, y_test = train_test_split(scaled_features, encoded_target, test_size=0.2, random_state=42)"
   ]
  },
  {
   "cell_type": "code",
   "execution_count": 66,
   "id": "082b8c32",
   "metadata": {},
   "outputs": [
    {
     "data": {
      "text/html": [
       "<style>#sk-container-id-1 {color: black;background-color: white;}#sk-container-id-1 pre{padding: 0;}#sk-container-id-1 div.sk-toggleable {background-color: white;}#sk-container-id-1 label.sk-toggleable__label {cursor: pointer;display: block;width: 100%;margin-bottom: 0;padding: 0.3em;box-sizing: border-box;text-align: center;}#sk-container-id-1 label.sk-toggleable__label-arrow:before {content: \"▸\";float: left;margin-right: 0.25em;color: #696969;}#sk-container-id-1 label.sk-toggleable__label-arrow:hover:before {color: black;}#sk-container-id-1 div.sk-estimator:hover label.sk-toggleable__label-arrow:before {color: black;}#sk-container-id-1 div.sk-toggleable__content {max-height: 0;max-width: 0;overflow: hidden;text-align: left;background-color: #f0f8ff;}#sk-container-id-1 div.sk-toggleable__content pre {margin: 0.2em;color: black;border-radius: 0.25em;background-color: #f0f8ff;}#sk-container-id-1 input.sk-toggleable__control:checked~div.sk-toggleable__content {max-height: 200px;max-width: 100%;overflow: auto;}#sk-container-id-1 input.sk-toggleable__control:checked~label.sk-toggleable__label-arrow:before {content: \"▾\";}#sk-container-id-1 div.sk-estimator input.sk-toggleable__control:checked~label.sk-toggleable__label {background-color: #d4ebff;}#sk-container-id-1 div.sk-label input.sk-toggleable__control:checked~label.sk-toggleable__label {background-color: #d4ebff;}#sk-container-id-1 input.sk-hidden--visually {border: 0;clip: rect(1px 1px 1px 1px);clip: rect(1px, 1px, 1px, 1px);height: 1px;margin: -1px;overflow: hidden;padding: 0;position: absolute;width: 1px;}#sk-container-id-1 div.sk-estimator {font-family: monospace;background-color: #f0f8ff;border: 1px dotted black;border-radius: 0.25em;box-sizing: border-box;margin-bottom: 0.5em;}#sk-container-id-1 div.sk-estimator:hover {background-color: #d4ebff;}#sk-container-id-1 div.sk-parallel-item::after {content: \"\";width: 100%;border-bottom: 1px solid gray;flex-grow: 1;}#sk-container-id-1 div.sk-label:hover label.sk-toggleable__label {background-color: #d4ebff;}#sk-container-id-1 div.sk-serial::before {content: \"\";position: absolute;border-left: 1px solid gray;box-sizing: border-box;top: 0;bottom: 0;left: 50%;z-index: 0;}#sk-container-id-1 div.sk-serial {display: flex;flex-direction: column;align-items: center;background-color: white;padding-right: 0.2em;padding-left: 0.2em;position: relative;}#sk-container-id-1 div.sk-item {position: relative;z-index: 1;}#sk-container-id-1 div.sk-parallel {display: flex;align-items: stretch;justify-content: center;background-color: white;position: relative;}#sk-container-id-1 div.sk-item::before, #sk-container-id-1 div.sk-parallel-item::before {content: \"\";position: absolute;border-left: 1px solid gray;box-sizing: border-box;top: 0;bottom: 0;left: 50%;z-index: -1;}#sk-container-id-1 div.sk-parallel-item {display: flex;flex-direction: column;z-index: 1;position: relative;background-color: white;}#sk-container-id-1 div.sk-parallel-item:first-child::after {align-self: flex-end;width: 50%;}#sk-container-id-1 div.sk-parallel-item:last-child::after {align-self: flex-start;width: 50%;}#sk-container-id-1 div.sk-parallel-item:only-child::after {width: 0;}#sk-container-id-1 div.sk-dashed-wrapped {border: 1px dashed gray;margin: 0 0.4em 0.5em 0.4em;box-sizing: border-box;padding-bottom: 0.4em;background-color: white;}#sk-container-id-1 div.sk-label label {font-family: monospace;font-weight: bold;display: inline-block;line-height: 1.2em;}#sk-container-id-1 div.sk-label-container {text-align: center;}#sk-container-id-1 div.sk-container {/* jupyter's `normalize.less` sets `[hidden] { display: none; }` but bootstrap.min.css set `[hidden] { display: none !important; }` so we also need the `!important` here to be able to override the default hidden behavior on the sphinx rendered scikit-learn.org. See: https://github.com/scikit-learn/scikit-learn/issues/21755 */display: inline-block !important;position: relative;}#sk-container-id-1 div.sk-text-repr-fallback {display: none;}</style><div id=\"sk-container-id-1\" class=\"sk-top-container\"><div class=\"sk-text-repr-fallback\"><pre>GaussianNB()</pre><b>In a Jupyter environment, please rerun this cell to show the HTML representation or trust the notebook. <br />On GitHub, the HTML representation is unable to render, please try loading this page with nbviewer.org.</b></div><div class=\"sk-container\" hidden><div class=\"sk-item\"><div class=\"sk-estimator sk-toggleable\"><input class=\"sk-toggleable__control sk-hidden--visually\" id=\"sk-estimator-id-1\" type=\"checkbox\" checked><label for=\"sk-estimator-id-1\" class=\"sk-toggleable__label sk-toggleable__label-arrow\">GaussianNB</label><div class=\"sk-toggleable__content\"><pre>GaussianNB()</pre></div></div></div></div></div>"
      ],
      "text/plain": [
       "GaussianNB()"
      ]
     },
     "execution_count": 66,
     "metadata": {},
     "output_type": "execute_result"
    }
   ],
   "source": [
    "classifier = GaussianNB()\n",
    "classifier.fit(X_train, y_train) "
   ]
  },
  {
   "cell_type": "code",
   "execution_count": 67,
   "id": "5f3ef199",
   "metadata": {},
   "outputs": [],
   "source": [
    "y_pred = classifier.predict(X_test)\n",
    "accuracy = accuracy_score(y_test, y_pred)"
   ]
  },
  {
   "cell_type": "code",
   "execution_count": 69,
   "id": "9b1df239",
   "metadata": {},
   "outputs": [
    {
     "name": "stdout",
     "output_type": "stream",
     "text": [
      "Accuracy: 0.0875\n"
     ]
    }
   ],
   "source": [
    "print(\"Accuracy:\",accuracy)"
   ]
  },
  {
   "cell_type": "code",
   "execution_count": null,
   "id": "bf84f368",
   "metadata": {},
   "outputs": [],
   "source": []
  },
  {
   "cell_type": "code",
   "execution_count": null,
   "id": "73401fb7",
   "metadata": {},
   "outputs": [],
   "source": []
  }
 ],
 "metadata": {
  "kernelspec": {
   "display_name": "Python 3 (ipykernel)",
   "language": "python",
   "name": "python3"
  },
  "language_info": {
   "codemirror_mode": {
    "name": "ipython",
    "version": 3
   },
   "file_extension": ".py",
   "mimetype": "text/x-python",
   "name": "python",
   "nbconvert_exporter": "python",
   "pygments_lexer": "ipython3",
   "version": "3.10.9"
  }
 },
 "nbformat": 4,
 "nbformat_minor": 5
}
